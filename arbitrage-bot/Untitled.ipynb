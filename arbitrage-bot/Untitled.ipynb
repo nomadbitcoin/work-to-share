{
 "cells": [
  {
   "cell_type": "markdown",
   "metadata": {},
   "source": [
    "# Recebe os links com as oportunidades e abre os navegadores"
   ]
  },
  {
   "cell_type": "markdown",
   "metadata": {},
   "source": [
    "### Variaveis que devem ser passadas ao init:"
   ]
  },
  {
   "cell_type": "code",
   "execution_count": 42,
   "metadata": {},
   "outputs": [],
   "source": [
    "link1 = ''\n",
    "link2 = ''\n",
    "exchange_1 = ''\n",
    "exchange_2 = ''\n",
    "odd_1 = ''\n",
    "odd_2 = ''"
   ]
  },
  {
   "cell_type": "markdown",
   "metadata": {},
   "source": [
    "### Variaveis que devem chamar outro modulo externo:"
   ]
  },
  {
   "cell_type": "code",
   "execution_count": 43,
   "metadata": {},
   "outputs": [],
   "source": [
    "stake_betway = '10'"
   ]
  },
  {
   "cell_type": "code",
   "execution_count": 17,
   "metadata": {},
   "outputs": [],
   "source": [
    "from selenium import webdriver\n",
    "import bs4"
   ]
  },
  {
   "cell_type": "code",
   "execution_count": 12,
   "metadata": {},
   "outputs": [],
   "source": [
    "def firefox_browser(link):\n",
    "    ''' recebe um link e abre o navegador do firefox para procurar a odd'''\n",
    "    \n",
    "    global firefox_driver\n",
    "    profile = webdriver.FirefoxProfile('/home/nomadbitcoin/.mozilla/firefox/8euuxq8u.default')\n",
    "    firefox_driver = webdriver.Firefox(profile, executable_path = \"./browser/Driver/geckodriver_firefox\")\n",
    "    firefox_driver.get(link)\n",
    "    return firefox_driver"
   ]
  },
  {
   "cell_type": "code",
   "execution_count": 53,
   "metadata": {},
   "outputs": [],
   "source": [
    "def chrome_browser(link):\n",
    "    from selenium.webdriver.chrome.options import Options as ChromeOptions\n",
    "    global chrome_driver\n",
    "    \n",
    "    options = webdriver.ChromeOptions()\n",
    "    options.add_argument(\"profile\")\n",
    "    options.add_argument(\"user-data-dir=./browser/Profile/telegram\")\n",
    "    \n",
    "    chrome_driver = webdriver.Chrome(executable_path = \"./browser/Driver/chromedriver\", options=options)\n",
    "    chrome_driver.get(link)\n",
    "    return chrome_driver"
   ]
  },
  {
   "cell_type": "code",
   "execution_count": 16,
   "metadata": {},
   "outputs": [
    {
     "data": {
      "text/plain": [
       "<selenium.webdriver.firefox.webdriver.WebDriver (session=\"7001ccc7-892a-4cc9-b7f9-addaa294d47b\")>"
      ]
     },
     "execution_count": 16,
     "metadata": {},
     "output_type": "execute_result"
    }
   ],
   "source": [
    "firefox_browser('https://sports.betway.com/en/sports/mkt/6035558/146839412')"
   ]
  },
  {
   "cell_type": "code",
   "execution_count": 32,
   "metadata": {},
   "outputs": [],
   "source": [
    "htmlfirefox_ = bs4.BeautifulSoup(firefox_driver.page_source, features='html.parser')"
   ]
  },
  {
   "cell_type": "markdown",
   "metadata": {},
   "source": [
    "# BETWAY"
   ]
  },
  {
   "cell_type": "code",
   "execution_count": 50,
   "metadata": {},
   "outputs": [],
   "source": [
    "def selectedBet(exchange):\n",
    "    '''Veririca se ha aposta selecionada'''\n",
    "    \n",
    "    if exchange == 'betway':\n",
    "        htmlfirefox_ = bs4.BeautifulSoup(firefox_driver.page_source, features='html.parser')\n",
    "        bet_selected = htmlfirefox_.find('div',{'class':'betSlipSelectionGroupingCollection node'})\n",
    "        return True if bet_selected != None else False\n",
    "    elif == '188bet':\n",
    "        pass\n",
    "\n",
    "def insertStake(stake_betway):\n",
    "    try:\n",
    "        stake_input = firefox_driver.find_element_by_class_name('stakeInput')\n",
    "        stake_input.click()\n",
    "        stake_input.send_keys(stake_betway)\n",
    "    except Exception as error:\n",
    "        processErrors_(error, '[BETWAY]: insertStake()')"
   ]
  },
  {
   "cell_type": "code",
   "execution_count": 75,
   "metadata": {},
   "outputs": [],
   "source": [
    "if selectedBet() == True:\n",
    "    insertStake(stake_betway)\n",
    "else:\n",
    "    print('bet nao esta selecionada')\n",
    "#criar funcao que aperta play bet"
   ]
  },
  {
   "cell_type": "code",
   "execution_count": null,
   "metadata": {},
   "outputs": [],
   "source": []
  },
  {
   "cell_type": "markdown",
   "metadata": {},
   "source": [
    "# BET365"
   ]
  },
  {
   "cell_type": "code",
   "execution_count": 71,
   "metadata": {},
   "outputs": [],
   "source": [
    "chrome_browser('https://www.bet365.com')\n",
    "# dando algum problema de tela preta, vamos esperar pra ver se depois normaliza"
   ]
  },
  {
   "cell_type": "code",
   "execution_count": null,
   "metadata": {},
   "outputs": [],
   "source": []
  },
  {
   "cell_type": "markdown",
   "metadata": {},
   "source": [
    "# 188"
   ]
  },
  {
   "cell_type": "code",
   "execution_count": 104,
   "metadata": {},
   "outputs": [],
   "source": [
    "# so deus sabe o pq nao aparece os elementos no html"
   ]
  },
  {
   "cell_type": "code",
   "execution_count": 105,
   "metadata": {},
   "outputs": [],
   "source": [
    "chrome_browser('https://www.188bet.com/pt-br/sports/4103454/in-play/Vega-Squadron-VEG-Esports-vs-Papa-Krych-ROB-Esports')"
   ]
  },
  {
   "cell_type": "code",
   "execution_count": null,
   "metadata": {},
   "outputs": [],
   "source": []
  },
  {
   "cell_type": "markdown",
   "metadata": {},
   "source": [
    "# Pinnacle"
   ]
  },
  {
   "cell_type": "code",
   "execution_count": 106,
   "metadata": {},
   "outputs": [
    {
     "data": {
      "text/plain": [
       "<selenium.webdriver.chrome.webdriver.WebDriver (session=\"168373cbd7bb5f9679ef41185f76d49b\")>"
      ]
     },
     "execution_count": 106,
     "metadata": {},
     "output_type": "execute_result"
    }
   ],
   "source": [
    "chrome_browser('https://www.pinnacle.com/pt/soccer/england-premier-league/sheffield-united-vs-chelsea/1135213879')"
   ]
  },
  {
   "cell_type": "code",
   "execution_count": 112,
   "metadata": {},
   "outputs": [],
   "source": [
    "htmlchrome_ = bs4.BeautifulSoup(chrome_driver.page_source, features='html.parser')"
   ]
  },
  {
   "cell_type": "code",
   "execution_count": 111,
   "metadata": {},
   "outputs": [
    {
     "data": {
      "text/plain": [
       "39"
      ]
     },
     "execution_count": 111,
     "metadata": {},
     "output_type": "execute_result"
    }
   ],
   "source": [
    "len(htmlchrome_.find_all('span',{'class':'price'}))"
   ]
  },
  {
   "cell_type": "code",
   "execution_count": 113,
   "metadata": {},
   "outputs": [
    {
     "data": {
      "text/plain": [
       "48"
      ]
     },
     "execution_count": 113,
     "metadata": {},
     "output_type": "execute_result"
    }
   ],
   "source": [
    "len(htmlchrome_.find_all('span',{'class':'price'}))"
   ]
  },
  {
   "cell_type": "code",
   "execution_count": 44,
   "metadata": {},
   "outputs": [],
   "source": [
    "def processErrors_(error, step):\n",
    "    ''' recebe um erro e onde foi que ocorreu '''\n",
    "    print('error ocurred in: {}\\n'.format(step))\n",
    "    print(type(error), str(error))"
   ]
  },
  {
   "cell_type": "code",
   "execution_count": null,
   "metadata": {},
   "outputs": [],
   "source": []
  }
 ],
 "metadata": {
  "kernelspec": {
   "display_name": "Python 3",
   "language": "python",
   "name": "python3"
  },
  "language_info": {
   "codemirror_mode": {
    "name": "ipython",
    "version": 3
   },
   "file_extension": ".py",
   "mimetype": "text/x-python",
   "name": "python",
   "nbconvert_exporter": "python",
   "pygments_lexer": "ipython3",
   "version": "3.5.3"
  }
 },
 "nbformat": 4,
 "nbformat_minor": 2
}
