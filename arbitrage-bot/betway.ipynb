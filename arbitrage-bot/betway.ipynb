{
 "cells": [
  {
   "cell_type": "markdown",
   "metadata": {},
   "source": [
    "# Faz a entrada na betway"
   ]
  },
  {
   "cell_type": "code",
   "execution_count": 46,
   "metadata": {},
   "outputs": [],
   "source": [
    "import bs4\n",
    "import time\n",
    "\n",
    "class betwayActions():\n",
    "    def __init__(self, link, stake, odd):\n",
    "        self.odd = odd\n",
    "        self.stake = stake\n",
    "        self.link = link\n",
    "    \n",
    "    def openWebsite(self):\n",
    "        ''' recebe um link e abre o navegador do firefox para procurar a odd'''\n",
    "\n",
    "        from selenium import webdriver\n",
    "        profile = webdriver.FirefoxProfile('/home/nomadbitcoin/.mozilla/firefox/8euuxq8u.default')\n",
    "        self.firefox_driver = webdriver.Firefox(profile, executable_path = \"./browser/Driver/geckodriver_firefox\")\n",
    "        self.firefox_driver.get(self.link)\n",
    "        return True\n",
    "    \n",
    "    def selectedBet(self):\n",
    "        '''Veririca se ha aposta selecionada'''\n",
    "    \n",
    "        self.htmlfirefox_ = bs4.BeautifulSoup(self.firefox_driver.page_source, features='html.parser')\n",
    "        bet_selected = self.htmlfirefox_.find('div',{'class':'betSlipSelectionGroupingCollection node'})\n",
    "        return True if bet_selected != None else False\n",
    "\n",
    "    def insertStake(self):\n",
    "        try:\n",
    "            stake_input = self.firefox_driver.find_element_by_class_name('stakeInput')\n",
    "            stake_input.click()\n",
    "            stake_input.send_keys(self.stake)\n",
    "            return True\n",
    "        except Exception as error:\n",
    "            processErrors_(error, '[BETWAY]: insertStake()')\n",
    "            return False\n",
    "    \n",
    "    def verifyODD(self):\n",
    "        ''' verifica se a odd esta igual '''\n",
    "        bet_selected = self.htmlfirefox_.find('div',{'class':'betSlipSelectionGroupingCollection node'})\n",
    "\n",
    "        odd_ = bet_selected.find('span',{'class':'odds'})\n",
    "        if odd_.text != self.odd:\n",
    "            print('odd diferente, nao fazer a entrada')\n",
    "            return False\n",
    "        else:\n",
    "            return True\n",
    "\n",
    "    def __call__(self):\n",
    "        # faz a entrada quando a funcao eh chamada\n",
    "        if not (self.openWebsite()): return False\n",
    "        \n",
    "        print('wait to click in bet (because de algorithm already send opened bet)')\n",
    "        time.sleep(10)\n",
    "        \n",
    "        if self.selectedBet() == True and self.verifyODD():\n",
    "            self.insertStake()\n",
    "        else:\n",
    "            print('bet nao esta selecionada')\n",
    "            return False\n",
    "        \n",
    "        print('prosseguir clicando em fazer login e entrada')"
   ]
  },
  {
   "cell_type": "code",
   "execution_count": 47,
   "metadata": {},
   "outputs": [],
   "source": [
    "bet = betwayActions(link='https://sports.betway.com/en/sports/evt/6035556', stake=10, odd='4.20')"
   ]
  },
  {
   "cell_type": "code",
   "execution_count": null,
   "metadata": {},
   "outputs": [],
   "source": []
  },
  {
   "cell_type": "code",
   "execution_count": null,
   "metadata": {},
   "outputs": [],
   "source": []
  },
  {
   "cell_type": "code",
   "execution_count": 48,
   "metadata": {},
   "outputs": [
    {
     "name": "stdout",
     "output_type": "stream",
     "text": [
      "wait to click in bet (because de algorithm already send opened bet)\n",
      "prosseguir clicando em fazer login e entrada\n"
     ]
    }
   ],
   "source": [
    "bet()"
   ]
  },
  {
   "cell_type": "code",
   "execution_count": null,
   "metadata": {},
   "outputs": [],
   "source": []
  },
  {
   "cell_type": "code",
   "execution_count": null,
   "metadata": {},
   "outputs": [],
   "source": []
  }
 ],
 "metadata": {
  "kernelspec": {
   "display_name": "Python 3",
   "language": "python",
   "name": "python3"
  },
  "language_info": {
   "codemirror_mode": {
    "name": "ipython",
    "version": 3
   },
   "file_extension": ".py",
   "mimetype": "text/x-python",
   "name": "python",
   "nbconvert_exporter": "python",
   "pygments_lexer": "ipython3",
   "version": "3.5.3"
  }
 },
 "nbformat": 4,
 "nbformat_minor": 2
}
