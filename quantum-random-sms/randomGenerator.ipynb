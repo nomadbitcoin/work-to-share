{
 "cells": [
  {
   "cell_type": "code",
   "execution_count": 9,
   "metadata": {},
   "outputs": [],
   "source": [
    "import binary_converter\n",
    "import sms\n",
    "import login"
   ]
  },
  {
   "cell_type": "code",
   "execution_count": 10,
   "metadata": {},
   "outputs": [],
   "source": [
    "import time, random"
   ]
  },
  {
   "cell_type": "code",
   "execution_count": 11,
   "metadata": {},
   "outputs": [
    {
     "name": "stderr",
     "output_type": "stream",
     "text": [
      "c:\\users\\yan\\appdata\\local\\programs\\python\\python37-32\\lib\\site-packages\\qiskit\\__init__.py:65: RuntimeWarning: Could not import the Aer provider from the qiskit-aer package. Install qiskit-aer or check your installation.\n",
      "  RuntimeWarning)\n"
     ]
    }
   ],
   "source": [
    "from qiskit import QuantumRegister, ClassicalRegister, QuantumCircuit, IBMQ, execute\n",
    "#disable warning\n",
    "import logging\n",
    "logging.getLogger('qiskit.providers.ibmq').setLevel(logging.WARNING)"
   ]
  },
  {
   "cell_type": "code",
   "execution_count": 12,
   "metadata": {},
   "outputs": [
    {
     "name": "stderr",
     "output_type": "stream",
     "text": [
      "c:\\users\\yan\\appdata\\local\\programs\\python\\python37-32\\lib\\site-packages\\qiskit\\providers\\ibmq\\ibmqfactory.py:109: UserWarning: Timestamps in IBMQ backend properties, jobs, and job results are all now in local time instead of UTC.\n",
      "  warnings.warn('Timestamps in IBMQ backend properties, jobs, and job results '\n"
     ]
    }
   ],
   "source": [
    "provider = IBMQ.enable_account(login.getToken('ibm'))"
   ]
  },
  {
   "cell_type": "code",
   "execution_count": 5,
   "metadata": {},
   "outputs": [],
   "source": [
    "backends = provider.backends()\n",
    "# backends"
   ]
  },
  {
   "cell_type": "code",
   "execution_count": 13,
   "metadata": {},
   "outputs": [],
   "source": [
    "backend_selected = 'ibmq_16_melbourne'\n",
    "backend_melbourne = provider.get_backend(backend_selected)"
   ]
  },
  {
   "cell_type": "code",
   "execution_count": 14,
   "metadata": {},
   "outputs": [],
   "source": [
    "qreg_q = QuantumRegister(8, 'q')\n",
    "creg_c = ClassicalRegister(8, 'c')\n",
    "circuit = QuantumCircuit(qreg_q, creg_c)\n",
    "\n",
    "circuit.h(qreg_q[0])\n",
    "circuit.h(qreg_q[1])\n",
    "circuit.h(qreg_q[2])\n",
    "circuit.h(qreg_q[3])\n",
    "circuit.h(qreg_q[4])\n",
    "circuit.h(qreg_q[5])\n",
    "circuit.h(qreg_q[6])\n",
    "circuit.h(qreg_q[7])\n",
    "\n",
    "circuit.measure(qreg_q[0], creg_c[0])\n",
    "circuit.measure(qreg_q[1], creg_c[1])\n",
    "circuit.measure(qreg_q[2], creg_c[2])\n",
    "circuit.measure(qreg_q[3], creg_c[3])\n",
    "circuit.measure(qreg_q[4], creg_c[4])\n",
    "circuit.measure(qreg_q[5], creg_c[5])\n",
    "circuit.measure(qreg_q[6], creg_c[6])\n",
    "circuit.measure(qreg_q[7], creg_c[7]);"
   ]
  },
  {
   "cell_type": "code",
   "execution_count": 15,
   "metadata": {},
   "outputs": [],
   "source": [
    "# time.sleep(random.randint(180,360))\n",
    "job = execute(circuit, backend=backend_melbourne, shots=1)"
   ]
  },
  {
   "cell_type": "code",
   "execution_count": 30,
   "metadata": {},
   "outputs": [],
   "source": [
    "number_generated = job.result().get_counts()"
   ]
  },
  {
   "cell_type": "code",
   "execution_count": null,
   "metadata": {},
   "outputs": [],
   "source": []
  },
  {
   "cell_type": "code",
   "execution_count": 9,
   "metadata": {},
   "outputs": [],
   "source": [
    "#transform dict to list and get the key with the state\n",
    "# number_generated = list(number_generated.keys())[0]"
   ]
  },
  {
   "cell_type": "code",
   "execution_count": null,
   "metadata": {},
   "outputs": [],
   "source": []
  },
  {
   "cell_type": "code",
   "execution_count": null,
   "metadata": {},
   "outputs": [],
   "source": []
  },
  {
   "cell_type": "code",
   "execution_count": 31,
   "metadata": {},
   "outputs": [],
   "source": [
    "for n in number_generated:\n",
    "    random_kidding = random.randint(random.sample([3,33,66,99], 1)[0],random.sample([180,360,720,1440], 1)[0])\n",
    "    \n",
    "    dec = binary_converter.BinaryToDecimal(int(n))\n",
    "    asc = binary_converter.decode_char(dec)\n",
    "    sms.sendSms('numero: {} gerado usando o computador quântico: {}\\n{} em decimal e equivalente ao caractere: {} na tabela ascii'.format(n, backend_selected, dec, asc))\n",
    "    \n",
    "    break\n",
    "    time.sleep(random_kidding)"
   ]
  },
  {
   "cell_type": "code",
   "execution_count": null,
   "metadata": {},
   "outputs": [],
   "source": []
  },
  {
   "cell_type": "code",
   "execution_count": null,
   "metadata": {},
   "outputs": [],
   "source": []
  },
  {
   "cell_type": "code",
   "execution_count": null,
   "metadata": {},
   "outputs": [],
   "source": []
  },
  {
   "cell_type": "code",
   "execution_count": null,
   "metadata": {},
   "outputs": [],
   "source": []
  },
  {
   "cell_type": "code",
   "execution_count": null,
   "metadata": {},
   "outputs": [],
   "source": []
  },
  {
   "cell_type": "code",
   "execution_count": null,
   "metadata": {},
   "outputs": [],
   "source": []
  }
 ],
 "metadata": {
  "kernelspec": {
   "display_name": "Python 3",
   "language": "python",
   "name": "python3"
  },
  "language_info": {
   "codemirror_mode": {
    "name": "ipython",
    "version": 3
   },
   "file_extension": ".py",
   "mimetype": "text/x-python",
   "name": "python",
   "nbconvert_exporter": "python",
   "pygments_lexer": "ipython3",
   "version": "3.7.3"
  }
 },
 "nbformat": 4,
 "nbformat_minor": 2
}
