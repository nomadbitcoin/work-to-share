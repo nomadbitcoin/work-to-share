{
 "cells": [
  {
   "cell_type": "code",
   "execution_count": 1,
   "metadata": {},
   "outputs": [],
   "source": [
    "from selenium import webdriver\n",
    "import requests\n",
    "from selenium.webdriver.common.keys import Keys\n",
    "from selenium.webdriver.chrome.options import Options\n",
    "\n",
    "import bs4, time\n",
    "from datetime import datetime, timedelta\n",
    "import pandas as pd\n",
    "import numpy as np\n",
    "pd.options.display.max_rows = 1000\n",
    "pd.options.display.max_columns = None\n",
    "pd.options.mode.chained_assignment = None"
   ]
  },
  {
   "cell_type": "code",
   "execution_count": 2,
   "metadata": {},
   "outputs": [],
   "source": [
    "clubes = pd.read_csv('./data/clubes_data.csv', low_memory=False)\n",
    "mundial = pd.read_csv('./data/mundial_data.csv', low_memory=False)"
   ]
  },
  {
   "cell_type": "code",
   "execution_count": 9,
   "metadata": {},
   "outputs": [],
   "source": [
    "def getGames(market, data_hoje, games_now=False, intervalo=False):\n",
    "    '''\n",
    "        Ira pegar os ultimos jogos\n",
    "        \n",
    "        games_now para pegar somente os jogos de agora\n",
    "    '''\n",
    "\n",
    "    total = 0\n",
    "    count = 0\n",
    "    \n",
    "    if market == 'clubes':\n",
    "        main_url = 'https://www.betfair.com/sport/virtuals-results?sport=SOCCER&day='\n",
    "    elif market == 'mundial':\n",
    "        main_url = 'https://www.betfair.com/sport/virtuals-results?sport=SOCCER_WORLD_CUP&day='\n",
    "\n",
    "    link =  main_url + data_hoje\n",
    "        \n",
    "    if games_now != False:\n",
    "        req = requests.get(link)\n",
    "        if not req.status_code == 200:\n",
    "            return 'Problem with request'\n",
    "        else:\n",
    "            htmlPage = bs4.BeautifulSoup(req.content, features='html.parser')\n",
    "    else:\n",
    "        options = Options()\n",
    "#         options.add_argument('--headless')\n",
    "        options.add_argument(\"user-data-dir=./bin/profile_browser\")\n",
    "        \n",
    "        if not(\"driver\" in globals()):\n",
    "            global driver\n",
    "            driver = webdriver.Chrome(executable_path='./bin/chromedriver.exe', chrome_options=options)\n",
    "        \n",
    "        driver.get(link)\n",
    "        time.sleep(1)\n",
    "        while total != '475':\n",
    "            total = driver.find_element_by_class_name('number-of-results').text\n",
    "            driver.find_element_by_tag_name('html').send_keys(Keys.END)\n",
    "            time.sleep(1)\n",
    "            driver.find_element_by_tag_name('html').send_keys(Keys.HOME)\n",
    "            count +=1\n",
    "            if count >=13 and intervalo==False:\n",
    "#                 break\n",
    "                print('\\ndia com menos de 475\\n')\n",
    "                next_or_break = input('1 para parar de tentar pegar os dados ou outra tecla para continuar\\n:')\n",
    "                if str(next_or_break) == '1':\n",
    "                    driver.close()\n",
    "                    break  \n",
    "            elif count >=13 and intervalo==True:\n",
    "                break\n",
    "        htmlPage = bs4.BeautifulSoup(driver.page_source, features='html.parser')\n",
    "        \n",
    "    \n",
    "    table_results = htmlPage.find('div',{'class':'result-list-wrapper'})\n",
    "\n",
    "    data_day = []\n",
    "    for event in table_results.find_all('div',{'class':'result-title'}):\n",
    "        content = event.text.split('\\n')\n",
    "        event_data = {'date': '', 'time': '', 'team_home': '', 'score': '', 'team_back': ''}\n",
    "\n",
    "        event_data['date'] = data_hoje\n",
    "        event_data['time'] = content[1]\n",
    "        event_data['team_home'] = content[2]\n",
    "        event_data['score'] = content[4]\n",
    "        event_data['team_back'] = content[6]\n",
    "\n",
    "        data_day.append(event_data)\n",
    "\n",
    "    data = pd.DataFrame(data_day, columns=list(event_data.keys()))\n",
    "    print('saved day: {}'.format(data_hoje))\n",
    "\n",
    "    return data"
   ]
  },
  {
   "cell_type": "code",
   "execution_count": 4,
   "metadata": {},
   "outputs": [],
   "source": [
    "def cleanDatetime(data):\n",
    "    '''\n",
    "        Pre processa os dados e os deixa prontos para analise\n",
    "    '''\n",
    "    for row in range(len(data)):\n",
    "        dateAndTime = pd.to_datetime(data.loc[row, 'date'] + \" \" + data.loc[row, 'time'])\n",
    "    \n",
    "        if dateAndTime.hour > 18:\n",
    "            dateAndTime = dateAndTime - timedelta(days=1)\n",
    "        \n",
    "        dateAndTime = dateAndTime + timedelta(hours=2)\n",
    "        data.loc[row, 'datetime'] = dateAndTime\n",
    "        \n",
    "        if row % 1000 == 0: print(row)\n",
    "        \n",
    "    data.drop(['date', 'time'], axis=1, inplace=True)\n",
    "    data.sort_values(['datetime'], inplace=True)\n",
    "    data.reset_index(drop=True, inplace=True)\n",
    "    return data"
   ]
  },
  {
   "cell_type": "code",
   "execution_count": 5,
   "metadata": {},
   "outputs": [],
   "source": [
    "def getNewData(data, market):\n",
    "    '''\n",
    "        Recebe o dataframe antigo\n",
    "        Adiciona os dados mais recentes ao dataframe\n",
    "    '''\n",
    "    last_item = len(data)-1\n",
    "    data.datetime = pd.to_datetime(data['datetime'])\n",
    "    difference = (datetime.today() - data.loc[last_item, 'datetime']).days\n",
    "    \n",
    "    new_games = pd.DataFrame()\n",
    "    saved_days = []\n",
    "    for i in range(difference+1):\n",
    "        day = ((datetime.today() - timedelta(days=i)).strftime('%Y-%m-%d'))\n",
    "        if day not in saved_days:\n",
    "            new_games = new_games.append(getGames(market, day, intervalo=True))\n",
    "            \n",
    "    new_games.reset_index(drop=True, inplace=True)\n",
    "    new_games = cleanDatetime(new_games)\n",
    "    return new_games"
   ]
  },
  {
   "cell_type": "code",
   "execution_count": 6,
   "metadata": {},
   "outputs": [],
   "source": [
    "def concatDF(old_df, new_df):\n",
    "    new = pd.concat([old_df, new_df], axis=0, sort=True)\n",
    "    new.sort_values(['datetime'], inplace=True)\n",
    "    new.drop_duplicates(inplace=True)\n",
    "    new.reset_index(drop=True, inplace=True)\n",
    "    return new"
   ]
  },
  {
   "cell_type": "code",
   "execution_count": 10,
   "metadata": {
    "scrolled": true
   },
   "outputs": [
    {
     "name": "stderr",
     "output_type": "stream",
     "text": [
      "c:\\users\\yan\\appdata\\local\\programs\\python\\python37-32\\lib\\site-packages\\ipykernel_launcher.py:31: DeprecationWarning: use options instead of chrome_options\n"
     ]
    },
    {
     "ename": "WebDriverException",
     "evalue": "Message: 'chromedriver.exe' executable needs to be in PATH. Please see https://sites.google.com/a/chromium.org/chromedriver/home\n",
     "output_type": "error",
     "traceback": [
      "\u001b[1;31m---------------------------------------------------------------------------\u001b[0m",
      "\u001b[1;31mFileNotFoundError\u001b[0m                         Traceback (most recent call last)",
      "\u001b[1;32mc:\\users\\yan\\appdata\\local\\programs\\python\\python37-32\\lib\\site-packages\\selenium\\webdriver\\common\\service.py\u001b[0m in \u001b[0;36mstart\u001b[1;34m(self)\u001b[0m\n\u001b[0;32m     75\u001b[0m                                             \u001b[0mstderr\u001b[0m\u001b[1;33m=\u001b[0m\u001b[0mself\u001b[0m\u001b[1;33m.\u001b[0m\u001b[0mlog_file\u001b[0m\u001b[1;33m,\u001b[0m\u001b[1;33m\u001b[0m\u001b[1;33m\u001b[0m\u001b[0m\n\u001b[1;32m---> 76\u001b[1;33m                                             stdin=PIPE)\n\u001b[0m\u001b[0;32m     77\u001b[0m         \u001b[1;32mexcept\u001b[0m \u001b[0mTypeError\u001b[0m\u001b[1;33m:\u001b[0m\u001b[1;33m\u001b[0m\u001b[1;33m\u001b[0m\u001b[0m\n",
      "\u001b[1;32mc:\\users\\yan\\appdata\\local\\programs\\python\\python37-32\\lib\\subprocess.py\u001b[0m in \u001b[0;36m__init__\u001b[1;34m(self, args, bufsize, executable, stdin, stdout, stderr, preexec_fn, close_fds, shell, cwd, env, universal_newlines, startupinfo, creationflags, restore_signals, start_new_session, pass_fds, encoding, errors, text)\u001b[0m\n\u001b[0;32m    774\u001b[0m                                 \u001b[0merrread\u001b[0m\u001b[1;33m,\u001b[0m \u001b[0merrwrite\u001b[0m\u001b[1;33m,\u001b[0m\u001b[1;33m\u001b[0m\u001b[1;33m\u001b[0m\u001b[0m\n\u001b[1;32m--> 775\u001b[1;33m                                 restore_signals, start_new_session)\n\u001b[0m\u001b[0;32m    776\u001b[0m         \u001b[1;32mexcept\u001b[0m\u001b[1;33m:\u001b[0m\u001b[1;33m\u001b[0m\u001b[1;33m\u001b[0m\u001b[0m\n",
      "\u001b[1;32mc:\\users\\yan\\appdata\\local\\programs\\python\\python37-32\\lib\\subprocess.py\u001b[0m in \u001b[0;36m_execute_child\u001b[1;34m(self, args, executable, preexec_fn, close_fds, pass_fds, cwd, env, startupinfo, creationflags, shell, p2cread, p2cwrite, c2pread, c2pwrite, errread, errwrite, unused_restore_signals, unused_start_new_session)\u001b[0m\n\u001b[0;32m   1177\u001b[0m                                          \u001b[0mos\u001b[0m\u001b[1;33m.\u001b[0m\u001b[0mfspath\u001b[0m\u001b[1;33m(\u001b[0m\u001b[0mcwd\u001b[0m\u001b[1;33m)\u001b[0m \u001b[1;32mif\u001b[0m \u001b[0mcwd\u001b[0m \u001b[1;32mis\u001b[0m \u001b[1;32mnot\u001b[0m \u001b[1;32mNone\u001b[0m \u001b[1;32melse\u001b[0m \u001b[1;32mNone\u001b[0m\u001b[1;33m,\u001b[0m\u001b[1;33m\u001b[0m\u001b[1;33m\u001b[0m\u001b[0m\n\u001b[1;32m-> 1178\u001b[1;33m                                          startupinfo)\n\u001b[0m\u001b[0;32m   1179\u001b[0m             \u001b[1;32mfinally\u001b[0m\u001b[1;33m:\u001b[0m\u001b[1;33m\u001b[0m\u001b[1;33m\u001b[0m\u001b[0m\n",
      "\u001b[1;31mFileNotFoundError\u001b[0m: [WinError 2] O sistema não pode encontrar o arquivo especificado",
      "\nDuring handling of the above exception, another exception occurred:\n",
      "\u001b[1;31mWebDriverException\u001b[0m                        Traceback (most recent call last)",
      "\u001b[1;32m<ipython-input-10-cc27732c4df9>\u001b[0m in \u001b[0;36m<module>\u001b[1;34m\u001b[0m\n\u001b[1;32m----> 1\u001b[1;33m \u001b[0mnew_mundial\u001b[0m \u001b[1;33m=\u001b[0m \u001b[0mgetNewData\u001b[0m\u001b[1;33m(\u001b[0m\u001b[0mmundial\u001b[0m\u001b[1;33m,\u001b[0m \u001b[1;34m'mundial'\u001b[0m\u001b[1;33m)\u001b[0m\u001b[1;33m\u001b[0m\u001b[1;33m\u001b[0m\u001b[0m\n\u001b[0m\u001b[0;32m      2\u001b[0m \u001b[0mnew_clubes\u001b[0m \u001b[1;33m=\u001b[0m \u001b[0mgetNewData\u001b[0m\u001b[1;33m(\u001b[0m\u001b[0mclubes\u001b[0m\u001b[1;33m,\u001b[0m \u001b[1;34m'clubes'\u001b[0m\u001b[1;33m)\u001b[0m\u001b[1;33m\u001b[0m\u001b[1;33m\u001b[0m\u001b[0m\n",
      "\u001b[1;32m<ipython-input-5-834d39953c25>\u001b[0m in \u001b[0;36mgetNewData\u001b[1;34m(data, market)\u001b[0m\n\u001b[0;32m     13\u001b[0m         \u001b[0mday\u001b[0m \u001b[1;33m=\u001b[0m \u001b[1;33m(\u001b[0m\u001b[1;33m(\u001b[0m\u001b[0mdatetime\u001b[0m\u001b[1;33m.\u001b[0m\u001b[0mtoday\u001b[0m\u001b[1;33m(\u001b[0m\u001b[1;33m)\u001b[0m \u001b[1;33m-\u001b[0m \u001b[0mtimedelta\u001b[0m\u001b[1;33m(\u001b[0m\u001b[0mdays\u001b[0m\u001b[1;33m=\u001b[0m\u001b[0mi\u001b[0m\u001b[1;33m)\u001b[0m\u001b[1;33m)\u001b[0m\u001b[1;33m.\u001b[0m\u001b[0mstrftime\u001b[0m\u001b[1;33m(\u001b[0m\u001b[1;34m'%Y-%m-%d'\u001b[0m\u001b[1;33m)\u001b[0m\u001b[1;33m)\u001b[0m\u001b[1;33m\u001b[0m\u001b[1;33m\u001b[0m\u001b[0m\n\u001b[0;32m     14\u001b[0m         \u001b[1;32mif\u001b[0m \u001b[0mday\u001b[0m \u001b[1;32mnot\u001b[0m \u001b[1;32min\u001b[0m \u001b[0msaved_days\u001b[0m\u001b[1;33m:\u001b[0m\u001b[1;33m\u001b[0m\u001b[1;33m\u001b[0m\u001b[0m\n\u001b[1;32m---> 15\u001b[1;33m             \u001b[0mnew_games\u001b[0m \u001b[1;33m=\u001b[0m \u001b[0mnew_games\u001b[0m\u001b[1;33m.\u001b[0m\u001b[0mappend\u001b[0m\u001b[1;33m(\u001b[0m\u001b[0mgetGames\u001b[0m\u001b[1;33m(\u001b[0m\u001b[0mmarket\u001b[0m\u001b[1;33m,\u001b[0m \u001b[0mday\u001b[0m\u001b[1;33m,\u001b[0m \u001b[0mintervalo\u001b[0m\u001b[1;33m=\u001b[0m\u001b[1;32mTrue\u001b[0m\u001b[1;33m)\u001b[0m\u001b[1;33m)\u001b[0m\u001b[1;33m\u001b[0m\u001b[1;33m\u001b[0m\u001b[0m\n\u001b[0m\u001b[0;32m     16\u001b[0m \u001b[1;33m\u001b[0m\u001b[0m\n\u001b[0;32m     17\u001b[0m     \u001b[0mnew_games\u001b[0m\u001b[1;33m.\u001b[0m\u001b[0mreset_index\u001b[0m\u001b[1;33m(\u001b[0m\u001b[0mdrop\u001b[0m\u001b[1;33m=\u001b[0m\u001b[1;32mTrue\u001b[0m\u001b[1;33m,\u001b[0m \u001b[0minplace\u001b[0m\u001b[1;33m=\u001b[0m\u001b[1;32mTrue\u001b[0m\u001b[1;33m)\u001b[0m\u001b[1;33m\u001b[0m\u001b[1;33m\u001b[0m\u001b[0m\n",
      "\u001b[1;32m<ipython-input-9-feb9a1d3248f>\u001b[0m in \u001b[0;36mgetGames\u001b[1;34m(market, data_hoje, games_now, intervalo)\u001b[0m\n\u001b[0;32m     29\u001b[0m         \u001b[1;32mif\u001b[0m \u001b[1;32mnot\u001b[0m\u001b[1;33m(\u001b[0m\u001b[1;34m\"driver\"\u001b[0m \u001b[1;32min\u001b[0m \u001b[0mglobals\u001b[0m\u001b[1;33m(\u001b[0m\u001b[1;33m)\u001b[0m\u001b[1;33m)\u001b[0m\u001b[1;33m:\u001b[0m\u001b[1;33m\u001b[0m\u001b[1;33m\u001b[0m\u001b[0m\n\u001b[0;32m     30\u001b[0m             \u001b[1;32mglobal\u001b[0m \u001b[0mdriver\u001b[0m\u001b[1;33m\u001b[0m\u001b[1;33m\u001b[0m\u001b[0m\n\u001b[1;32m---> 31\u001b[1;33m             \u001b[0mdriver\u001b[0m \u001b[1;33m=\u001b[0m \u001b[0mwebdriver\u001b[0m\u001b[1;33m.\u001b[0m\u001b[0mChrome\u001b[0m\u001b[1;33m(\u001b[0m\u001b[0mexecutable_path\u001b[0m\u001b[1;33m=\u001b[0m\u001b[1;34m'/bin/chromedriver.exe'\u001b[0m\u001b[1;33m,\u001b[0m \u001b[0mchrome_options\u001b[0m\u001b[1;33m=\u001b[0m\u001b[0moptions\u001b[0m\u001b[1;33m)\u001b[0m\u001b[1;33m\u001b[0m\u001b[1;33m\u001b[0m\u001b[0m\n\u001b[0m\u001b[0;32m     32\u001b[0m \u001b[1;33m\u001b[0m\u001b[0m\n\u001b[0;32m     33\u001b[0m         \u001b[0mdriver\u001b[0m\u001b[1;33m.\u001b[0m\u001b[0mget\u001b[0m\u001b[1;33m(\u001b[0m\u001b[0mlink\u001b[0m\u001b[1;33m)\u001b[0m\u001b[1;33m\u001b[0m\u001b[1;33m\u001b[0m\u001b[0m\n",
      "\u001b[1;32mc:\\users\\yan\\appdata\\local\\programs\\python\\python37-32\\lib\\site-packages\\selenium\\webdriver\\chrome\\webdriver.py\u001b[0m in \u001b[0;36m__init__\u001b[1;34m(self, executable_path, port, options, service_args, desired_capabilities, service_log_path, chrome_options, keep_alive)\u001b[0m\n\u001b[0;32m     71\u001b[0m             \u001b[0mservice_args\u001b[0m\u001b[1;33m=\u001b[0m\u001b[0mservice_args\u001b[0m\u001b[1;33m,\u001b[0m\u001b[1;33m\u001b[0m\u001b[1;33m\u001b[0m\u001b[0m\n\u001b[0;32m     72\u001b[0m             log_path=service_log_path)\n\u001b[1;32m---> 73\u001b[1;33m         \u001b[0mself\u001b[0m\u001b[1;33m.\u001b[0m\u001b[0mservice\u001b[0m\u001b[1;33m.\u001b[0m\u001b[0mstart\u001b[0m\u001b[1;33m(\u001b[0m\u001b[1;33m)\u001b[0m\u001b[1;33m\u001b[0m\u001b[1;33m\u001b[0m\u001b[0m\n\u001b[0m\u001b[0;32m     74\u001b[0m \u001b[1;33m\u001b[0m\u001b[0m\n\u001b[0;32m     75\u001b[0m         \u001b[1;32mtry\u001b[0m\u001b[1;33m:\u001b[0m\u001b[1;33m\u001b[0m\u001b[1;33m\u001b[0m\u001b[0m\n",
      "\u001b[1;32mc:\\users\\yan\\appdata\\local\\programs\\python\\python37-32\\lib\\site-packages\\selenium\\webdriver\\common\\service.py\u001b[0m in \u001b[0;36mstart\u001b[1;34m(self)\u001b[0m\n\u001b[0;32m     81\u001b[0m                 raise WebDriverException(\n\u001b[0;32m     82\u001b[0m                     \"'%s' executable needs to be in PATH. %s\" % (\n\u001b[1;32m---> 83\u001b[1;33m                         os.path.basename(self.path), self.start_error_message)\n\u001b[0m\u001b[0;32m     84\u001b[0m                 )\n\u001b[0;32m     85\u001b[0m             \u001b[1;32melif\u001b[0m \u001b[0merr\u001b[0m\u001b[1;33m.\u001b[0m\u001b[0merrno\u001b[0m \u001b[1;33m==\u001b[0m \u001b[0merrno\u001b[0m\u001b[1;33m.\u001b[0m\u001b[0mEACCES\u001b[0m\u001b[1;33m:\u001b[0m\u001b[1;33m\u001b[0m\u001b[1;33m\u001b[0m\u001b[0m\n",
      "\u001b[1;31mWebDriverException\u001b[0m: Message: 'chromedriver.exe' executable needs to be in PATH. Please see https://sites.google.com/a/chromium.org/chromedriver/home\n"
     ]
    }
   ],
   "source": [
    "new_mundial = getNewData(mundial, 'mundial')\n",
    "new_clubes = getNewData(clubes, 'clubes')"
   ]
  },
  {
   "cell_type": "code",
   "execution_count": 57,
   "metadata": {},
   "outputs": [],
   "source": [
    "mundial = concatDF(mundial, new_mundial)\n",
    "clubes = concatDF(clubes, new_clubes)"
   ]
  },
  {
   "cell_type": "code",
   "execution_count": 59,
   "metadata": {},
   "outputs": [],
   "source": [
    "mundial.to_csv('./mundial_data.csv', index=None)\n",
    "clubes.to_csv('./clubes_data.csv', index=None)"
   ]
  },
  {
   "cell_type": "code",
   "execution_count": null,
   "metadata": {},
   "outputs": [],
   "source": []
  },
  {
   "cell_type": "code",
   "execution_count": 7,
   "metadata": {},
   "outputs": [
    {
     "data": {
      "text/html": [
       "<div>\n",
       "<style scoped>\n",
       "    .dataframe tbody tr th:only-of-type {\n",
       "        vertical-align: middle;\n",
       "    }\n",
       "\n",
       "    .dataframe tbody tr th {\n",
       "        vertical-align: top;\n",
       "    }\n",
       "\n",
       "    .dataframe thead th {\n",
       "        text-align: right;\n",
       "    }\n",
       "</style>\n",
       "<table border=\"1\" class=\"dataframe\">\n",
       "  <thead>\n",
       "    <tr style=\"text-align: right;\">\n",
       "      <th></th>\n",
       "      <th>datetime</th>\n",
       "      <th>score</th>\n",
       "      <th>team_back</th>\n",
       "      <th>team_home</th>\n",
       "    </tr>\n",
       "  </thead>\n",
       "  <tbody>\n",
       "    <tr>\n",
       "      <th>73973</th>\n",
       "      <td>2020-07-04 19:10:00</td>\n",
       "      <td>0 - 0</td>\n",
       "      <td>Uruguay</td>\n",
       "      <td>Brazil</td>\n",
       "    </tr>\n",
       "    <tr>\n",
       "      <th>73974</th>\n",
       "      <td>2020-07-04 19:13:00</td>\n",
       "      <td>1 - 0</td>\n",
       "      <td>Russia</td>\n",
       "      <td>Spain</td>\n",
       "    </tr>\n",
       "    <tr>\n",
       "      <th>73975</th>\n",
       "      <td>2020-07-04 19:16:00</td>\n",
       "      <td>0 - 3</td>\n",
       "      <td>Australia</td>\n",
       "      <td>Algeria</td>\n",
       "    </tr>\n",
       "    <tr>\n",
       "      <th>73976</th>\n",
       "      <td>2020-07-04 19:19:00</td>\n",
       "      <td>1 - 1</td>\n",
       "      <td>Croatia</td>\n",
       "      <td>Uruguay</td>\n",
       "    </tr>\n",
       "    <tr>\n",
       "      <th>73977</th>\n",
       "      <td>2020-07-04 19:22:00</td>\n",
       "      <td>3 - 1</td>\n",
       "      <td>Costa Rica</td>\n",
       "      <td>Argentina</td>\n",
       "    </tr>\n",
       "  </tbody>\n",
       "</table>\n",
       "</div>"
      ],
      "text/plain": [
       "                  datetime  score   team_back  team_home\n",
       "73973  2020-07-04 19:10:00  0 - 0     Uruguay     Brazil\n",
       "73974  2020-07-04 19:13:00  1 - 0      Russia      Spain\n",
       "73975  2020-07-04 19:16:00  0 - 3   Australia    Algeria\n",
       "73976  2020-07-04 19:19:00  1 - 1     Croatia    Uruguay\n",
       "73977  2020-07-04 19:22:00  3 - 1  Costa Rica  Argentina"
      ]
     },
     "execution_count": 7,
     "metadata": {},
     "output_type": "execute_result"
    }
   ],
   "source": [
    "mundial.tail()"
   ]
  },
  {
   "cell_type": "code",
   "execution_count": null,
   "metadata": {},
   "outputs": [],
   "source": []
  },
  {
   "cell_type": "code",
   "execution_count": null,
   "metadata": {},
   "outputs": [],
   "source": []
  },
  {
   "cell_type": "code",
   "execution_count": null,
   "metadata": {},
   "outputs": [],
   "source": []
  },
  {
   "cell_type": "code",
   "execution_count": null,
   "metadata": {},
   "outputs": [],
   "source": []
  },
  {
   "cell_type": "code",
   "execution_count": null,
   "metadata": {
    "scrolled": true
   },
   "outputs": [],
   "source": []
  }
 ],
 "metadata": {
  "kernelspec": {
   "display_name": "Python 3",
   "language": "python",
   "name": "python3"
  },
  "language_info": {
   "codemirror_mode": {
    "name": "ipython",
    "version": 3
   },
   "file_extension": ".py",
   "mimetype": "text/x-python",
   "name": "python",
   "nbconvert_exporter": "python",
   "pygments_lexer": "ipython3",
   "version": "3.7.3"
  }
 },
 "nbformat": 4,
 "nbformat_minor": 2
}
