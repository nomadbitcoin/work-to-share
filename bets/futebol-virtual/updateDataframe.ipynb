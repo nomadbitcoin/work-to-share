{
 "cells": [
  {
   "cell_type": "code",
   "execution_count": 1,
   "metadata": {},
   "outputs": [],
   "source": [
    "from selenium import webdriver\n",
    "import requests\n",
    "from selenium.webdriver.common.keys import Keys\n",
    "from selenium.webdriver.chrome.options import Options\n",
    "\n",
    "import bs4, time\n",
    "from datetime import datetime, timedelta\n",
    "import pandas as pd\n",
    "import numpy as np\n",
    "pd.options.display.max_rows = 1000\n",
    "pd.options.display.max_columns = None\n",
    "pd.options.mode.chained_assignment = None"
   ]
  },
  {
   "cell_type": "code",
   "execution_count": 2,
   "metadata": {},
   "outputs": [],
   "source": [
    "clubes = pd.read_csv('clubes_data.csv', low_memory=False)\n",
    "mundial = pd.read_csv('mundial_data.csv', low_memory=False)"
   ]
  },
  {
   "cell_type": "code",
   "execution_count": 26,
   "metadata": {},
   "outputs": [],
   "source": [
    "def getGames(market, data_hoje, games_now=False, intervalo=False):\n",
    "    '''\n",
    "        Ira pegar os ultimos jogos\n",
    "        \n",
    "        games_now para pegar somente os jogos de agora\n",
    "    '''\n",
    "\n",
    "    total = 0\n",
    "    count = 0\n",
    "    \n",
    "    if market == 'clubes':\n",
    "        main_url = 'https://www.betfair.com/sport/virtuals-results?sport=SOCCER&day='\n",
    "    elif market == 'mundial':\n",
    "        main_url = 'https://www.betfair.com/sport/virtuals-results?sport=SOCCER_WORLD_CUP&day='\n",
    "\n",
    "    link =  main_url + data_hoje\n",
    "        \n",
    "    if games_now != False:\n",
    "        req = requests.get(link)\n",
    "        if not req.status_code == 200:\n",
    "            return 'Problem with request'\n",
    "        else:\n",
    "            htmlPage = bs4.BeautifulSoup(req.content, features='html.parser')\n",
    "    else:\n",
    "        options = Options()\n",
    "#         options.add_argument('--headless')\n",
    "        options.add_argument(\"user-data-dir=./bin/profile_browser\")\n",
    "        \n",
    "        if not(\"driver\" in globals()):\n",
    "            global driver\n",
    "            driver = webdriver.Chrome(executable_path='./bin/chromedriver.exe', chrome_options=options)\n",
    "        \n",
    "        driver.get(link)\n",
    "        time.sleep(1)\n",
    "        while total != '475':\n",
    "            total = driver.find_element_by_class_name('number-of-results').text\n",
    "            driver.find_element_by_tag_name('html').send_keys(Keys.END)\n",
    "            time.sleep(1)\n",
    "            driver.find_element_by_tag_name('html').send_keys(Keys.HOME)\n",
    "            count +=1\n",
    "            if count >=13 and intervalo==False:\n",
    "#                 break\n",
    "                print('\\ndia com menos de 475\\n')\n",
    "                next_or_break = input('1 para parar de tentar pegar os dados ou outra tecla para continuar\\n:')\n",
    "                if str(next_or_break) == '1':\n",
    "                    driver.close()\n",
    "                    break  \n",
    "            elif count >=13 and intervalo==True:\n",
    "                break\n",
    "        htmlPage = bs4.BeautifulSoup(driver.page_source, features='html.parser')\n",
    "        \n",
    "    \n",
    "    table_results = htmlPage.find('div',{'class':'result-list-wrapper'})\n",
    "\n",
    "    data_day = []\n",
    "    for event in table_results.find_all('div',{'class':'result-title'}):\n",
    "        content = event.text.split('\\n')\n",
    "        event_data = {'date': '', 'time': '', 'team_home': '', 'score': '', 'team_back': ''}\n",
    "\n",
    "        event_data['date'] = data_hoje\n",
    "        event_data['time'] = content[1]\n",
    "        event_data['team_home'] = content[2]\n",
    "        event_data['score'] = content[4]\n",
    "        event_data['team_back'] = content[6]\n",
    "\n",
    "        data_day.append(event_data)\n",
    "\n",
    "    data = pd.DataFrame(data_day, columns=list(event_data.keys()))\n",
    "    print('saved day: {}'.format(data_hoje))\n",
    "\n",
    "    return data"
   ]
  },
  {
   "cell_type": "code",
   "execution_count": 53,
   "metadata": {},
   "outputs": [
    {
     "name": "stdout",
     "output_type": "stream",
     "text": [
      "saved day: 2020-07-04\n"
     ]
    }
   ],
   "source": [
    "a = getGames('clubes', '2020-07-04', intervalo=True)\n",
    "a = cleanDatetime(a)"
   ]
  },
  {
   "cell_type": "code",
   "execution_count": null,
   "metadata": {},
   "outputs": [],
   "source": []
  },
  {
   "cell_type": "code",
   "execution_count": 4,
   "metadata": {},
   "outputs": [],
   "source": [
    "def cleanDatetime(data):\n",
    "    '''\n",
    "        Pre processa os dados e os deixa prontos para analise\n",
    "    '''\n",
    "    for row in range(len(data)):\n",
    "        dateAndTime = pd.to_datetime(data.loc[row, 'date'] + \" \" + data.loc[row, 'time'])\n",
    "    \n",
    "        if dateAndTime.hour > 18:\n",
    "            dateAndTime = dateAndTime - timedelta(days=1)\n",
    "        \n",
    "        dateAndTime = dateAndTime + timedelta(hours=2)\n",
    "        data.loc[row, 'datetime'] = dateAndTime\n",
    "        \n",
    "        if row % 1000 == 0: print(row)\n",
    "        \n",
    "    data.drop(['date', 'time'], axis=1, inplace=True)\n",
    "    data.sort_values(['datetime'], inplace=True)\n",
    "    data.reset_index(drop=True, inplace=True)\n",
    "    return data"
   ]
  },
  {
   "cell_type": "code",
   "execution_count": 5,
   "metadata": {},
   "outputs": [],
   "source": [
    "def getNewData(data, market):\n",
    "    '''\n",
    "        Recebe o dataframe antigo\n",
    "        Adiciona os dados mais recentes ao dataframe\n",
    "    '''\n",
    "    last_item = len(data)-1\n",
    "    data.datetime = pd.to_datetime(data['datetime'])\n",
    "    difference = (datetime.today() - data.loc[last_item, 'datetime']).days\n",
    "    \n",
    "    new_games = pd.DataFrame()\n",
    "    saved_days = []\n",
    "    for i in range(difference+1):\n",
    "        day = ((datetime.today() - timedelta(days=i)).strftime('%Y-%m-%d'))\n",
    "        if day not in saved_days:\n",
    "            new_games = new_games.append(getGames(market, day, intervalo=True))\n",
    "            \n",
    "    new_games.reset_index(drop=True, inplace=True)\n",
    "    new_games = cleanDatetime(new_games)\n",
    "    return new_games"
   ]
  },
  {
   "cell_type": "code",
   "execution_count": 6,
   "metadata": {},
   "outputs": [],
   "source": [
    "def concatDF(old_df, new_df):\n",
    "    new = pd.concat([old_df, new_df], axis=0, sort=True)\n",
    "    new.sort_values(['datetime'], inplace=True)\n",
    "    new.drop_duplicates(inplace=True)\n",
    "    new.reset_index(drop=True, inplace=True)\n",
    "    return new"
   ]
  },
  {
   "cell_type": "code",
   "execution_count": 19,
   "metadata": {
    "scrolled": true
   },
   "outputs": [],
   "source": [
    "new_mundial = getNewData(mundial, 'mundial')\n",
    "new_clubes = getNewData(clubes, 'clubes')"
   ]
  },
  {
   "cell_type": "code",
   "execution_count": 58,
   "metadata": {},
   "outputs": [
    {
     "data": {
      "text/html": [
       "<div>\n",
       "<style scoped>\n",
       "    .dataframe tbody tr th:only-of-type {\n",
       "        vertical-align: middle;\n",
       "    }\n",
       "\n",
       "    .dataframe tbody tr th {\n",
       "        vertical-align: top;\n",
       "    }\n",
       "\n",
       "    .dataframe thead th {\n",
       "        text-align: right;\n",
       "    }\n",
       "</style>\n",
       "<table border=\"1\" class=\"dataframe\">\n",
       "  <thead>\n",
       "    <tr style=\"text-align: right;\">\n",
       "      <th></th>\n",
       "      <th>datetime</th>\n",
       "      <th>score</th>\n",
       "      <th>team_back</th>\n",
       "      <th>team_home</th>\n",
       "    </tr>\n",
       "  </thead>\n",
       "  <tbody>\n",
       "    <tr>\n",
       "      <th>0</th>\n",
       "      <td>2020-02-11 21:02:00</td>\n",
       "      <td>1 - 1</td>\n",
       "      <td>Torino Bulls</td>\n",
       "      <td>Sassuolo Villa</td>\n",
       "    </tr>\n",
       "    <tr>\n",
       "      <th>1</th>\n",
       "      <td>2020-02-11 21:05:00</td>\n",
       "      <td>0 - 1</td>\n",
       "      <td>Turin</td>\n",
       "      <td>Munich</td>\n",
       "    </tr>\n",
       "    <tr>\n",
       "      <th>2</th>\n",
       "      <td>2020-02-11 21:08:00</td>\n",
       "      <td>2 - 2</td>\n",
       "      <td>Biancorossi</td>\n",
       "      <td>Udine Utd</td>\n",
       "    </tr>\n",
       "    <tr>\n",
       "      <th>3</th>\n",
       "      <td>2020-02-11 21:11:00</td>\n",
       "      <td>1 - 0</td>\n",
       "      <td>Swansea Jacks</td>\n",
       "      <td>London Whites</td>\n",
       "    </tr>\n",
       "    <tr>\n",
       "      <th>4</th>\n",
       "      <td>2020-02-11 21:14:00</td>\n",
       "      <td>1 - 0</td>\n",
       "      <td>Islington Reds</td>\n",
       "      <td>East End Utd</td>\n",
       "    </tr>\n",
       "  </tbody>\n",
       "</table>\n",
       "</div>"
      ],
      "text/plain": [
       "              datetime                      score  \\\n",
       "0  2020-02-11 21:02:00                      1 - 1   \n",
       "1  2020-02-11 21:05:00                      0 - 1   \n",
       "2  2020-02-11 21:08:00                      2 - 2   \n",
       "3  2020-02-11 21:11:00                      1 - 0   \n",
       "4  2020-02-11 21:14:00                      1 - 0   \n",
       "\n",
       "                        team_back                       team_home  \n",
       "0                    Torino Bulls                  Sassuolo Villa  \n",
       "1                           Turin                          Munich  \n",
       "2                     Biancorossi                       Udine Utd  \n",
       "3                   Swansea Jacks                   London Whites  \n",
       "4                  Islington Reds                    East End Utd  "
      ]
     },
     "execution_count": 58,
     "metadata": {},
     "output_type": "execute_result"
    }
   ],
   "source": [
    "clubes.head()"
   ]
  },
  {
   "cell_type": "code",
   "execution_count": 59,
   "metadata": {},
   "outputs": [
    {
     "data": {
      "text/html": [
       "<div>\n",
       "<style scoped>\n",
       "    .dataframe tbody tr th:only-of-type {\n",
       "        vertical-align: middle;\n",
       "    }\n",
       "\n",
       "    .dataframe tbody tr th {\n",
       "        vertical-align: top;\n",
       "    }\n",
       "\n",
       "    .dataframe thead th {\n",
       "        text-align: right;\n",
       "    }\n",
       "</style>\n",
       "<table border=\"1\" class=\"dataframe\">\n",
       "  <thead>\n",
       "    <tr style=\"text-align: right;\">\n",
       "      <th></th>\n",
       "      <th>datetime</th>\n",
       "      <th>score</th>\n",
       "      <th>team_back</th>\n",
       "      <th>team_home</th>\n",
       "    </tr>\n",
       "  </thead>\n",
       "  <tbody>\n",
       "    <tr>\n",
       "      <th>68926</th>\n",
       "      <td>2020-07-06 10:20:00</td>\n",
       "      <td>2 - 0</td>\n",
       "      <td>Chelsea Pensioners</td>\n",
       "      <td>Islington Reds</td>\n",
       "    </tr>\n",
       "    <tr>\n",
       "      <th>68927</th>\n",
       "      <td>2020-07-06 10:23:00</td>\n",
       "      <td>1 - 2</td>\n",
       "      <td>Liverpool Stars</td>\n",
       "      <td>East End Utd</td>\n",
       "    </tr>\n",
       "    <tr>\n",
       "      <th>68928</th>\n",
       "      <td>2020-07-06 10:26:00</td>\n",
       "      <td>2 - 0</td>\n",
       "      <td>Chelsea Pensioners</td>\n",
       "      <td>London Whites</td>\n",
       "    </tr>\n",
       "    <tr>\n",
       "      <th>68929</th>\n",
       "      <td>2020-07-06 10:29:00</td>\n",
       "      <td>3 - 0</td>\n",
       "      <td>Verona City</td>\n",
       "      <td>Milan Reds</td>\n",
       "    </tr>\n",
       "    <tr>\n",
       "      <th>68930</th>\n",
       "      <td>2020-07-06 10:32:00</td>\n",
       "      <td>2 - 2</td>\n",
       "      <td>Turin</td>\n",
       "      <td>Verona City</td>\n",
       "    </tr>\n",
       "  </tbody>\n",
       "</table>\n",
       "</div>"
      ],
      "text/plain": [
       "                  datetime  score           team_back       team_home\n",
       "68926  2020-07-06 10:20:00  2 - 0  Chelsea Pensioners  Islington Reds\n",
       "68927  2020-07-06 10:23:00  1 - 2     Liverpool Stars    East End Utd\n",
       "68928  2020-07-06 10:26:00  2 - 0  Chelsea Pensioners   London Whites\n",
       "68929  2020-07-06 10:29:00  3 - 0         Verona City      Milan Reds\n",
       "68930  2020-07-06 10:32:00  2 - 2               Turin     Verona City"
      ]
     },
     "execution_count": 59,
     "metadata": {},
     "output_type": "execute_result"
    }
   ],
   "source": [
    "clubes.tail()"
   ]
  },
  {
   "cell_type": "code",
   "execution_count": null,
   "metadata": {},
   "outputs": [],
   "source": []
  },
  {
   "cell_type": "code",
   "execution_count": null,
   "metadata": {},
   "outputs": [],
   "source": []
  },
  {
   "cell_type": "code",
   "execution_count": 96,
   "metadata": {},
   "outputs": [],
   "source": [
    "# mundial.to_csv('./mundial_data.csv', index=None)\n",
    "# clubes.to_csv('./clubes_data.csv', index=None)"
   ]
  },
  {
   "cell_type": "code",
   "execution_count": 93,
   "metadata": {},
   "outputs": [],
   "source": [
    "# mundial = concatDF(mundial, new_mundial)\n",
    "# clubes = concatDF(new, new_clubes)"
   ]
  },
  {
   "cell_type": "code",
   "execution_count": 101,
   "metadata": {},
   "outputs": [
    {
     "data": {
      "text/plain": [
       "95599"
      ]
     },
     "execution_count": 101,
     "metadata": {},
     "output_type": "execute_result"
    }
   ],
   "source": [
    "len(clubes)"
   ]
  },
  {
   "cell_type": "code",
   "execution_count": 98,
   "metadata": {},
   "outputs": [
    {
     "data": {
      "text/plain": [
       "101283"
      ]
     },
     "execution_count": 98,
     "metadata": {},
     "output_type": "execute_result"
    }
   ],
   "source": [
    "len(mundial)"
   ]
  },
  {
   "cell_type": "code",
   "execution_count": 102,
   "metadata": {},
   "outputs": [
    {
     "data": {
      "text/html": [
       "<div>\n",
       "<style scoped>\n",
       "    .dataframe tbody tr th:only-of-type {\n",
       "        vertical-align: middle;\n",
       "    }\n",
       "\n",
       "    .dataframe tbody tr th {\n",
       "        vertical-align: top;\n",
       "    }\n",
       "\n",
       "    .dataframe thead th {\n",
       "        text-align: right;\n",
       "    }\n",
       "</style>\n",
       "<table border=\"1\" class=\"dataframe\">\n",
       "  <thead>\n",
       "    <tr style=\"text-align: right;\">\n",
       "      <th></th>\n",
       "      <th>datetime</th>\n",
       "      <th>score</th>\n",
       "      <th>team_back</th>\n",
       "      <th>team_home</th>\n",
       "    </tr>\n",
       "  </thead>\n",
       "  <tbody>\n",
       "    <tr>\n",
       "      <th>101278</th>\n",
       "      <td>2020-08-31 10:22:00</td>\n",
       "      <td>1 - 1</td>\n",
       "      <td>England</td>\n",
       "      <td>Portugal</td>\n",
       "    </tr>\n",
       "    <tr>\n",
       "      <th>101279</th>\n",
       "      <td>2020-08-31 10:25:00</td>\n",
       "      <td>1 - 1</td>\n",
       "      <td>Japan</td>\n",
       "      <td>Iran</td>\n",
       "    </tr>\n",
       "    <tr>\n",
       "      <th>101280</th>\n",
       "      <td>2020-08-31 10:28:00</td>\n",
       "      <td>4 - 0</td>\n",
       "      <td>Russia</td>\n",
       "      <td>Portugal</td>\n",
       "    </tr>\n",
       "    <tr>\n",
       "      <th>101281</th>\n",
       "      <td>2020-08-31 10:31:00</td>\n",
       "      <td>3 - 1</td>\n",
       "      <td>Chile</td>\n",
       "      <td>England</td>\n",
       "    </tr>\n",
       "    <tr>\n",
       "      <th>101282</th>\n",
       "      <td>2020-08-31 10:34:00</td>\n",
       "      <td>3 - 1</td>\n",
       "      <td>Italy</td>\n",
       "      <td>England</td>\n",
       "    </tr>\n",
       "  </tbody>\n",
       "</table>\n",
       "</div>"
      ],
      "text/plain": [
       "                  datetime  score team_back team_home\n",
       "101278 2020-08-31 10:22:00  1 - 1   England  Portugal\n",
       "101279 2020-08-31 10:25:00  1 - 1     Japan      Iran\n",
       "101280 2020-08-31 10:28:00  4 - 0    Russia  Portugal\n",
       "101281 2020-08-31 10:31:00  3 - 1     Chile   England\n",
       "101282 2020-08-31 10:34:00  3 - 1     Italy   England"
      ]
     },
     "execution_count": 102,
     "metadata": {},
     "output_type": "execute_result"
    }
   ],
   "source": [
    "mundial.tail()"
   ]
  },
  {
   "cell_type": "code",
   "execution_count": 79,
   "metadata": {},
   "outputs": [],
   "source": []
  },
  {
   "cell_type": "code",
   "execution_count": 80,
   "metadata": {},
   "outputs": [],
   "source": []
  },
  {
   "cell_type": "code",
   "execution_count": null,
   "metadata": {},
   "outputs": [],
   "source": []
  },
  {
   "cell_type": "code",
   "execution_count": null,
   "metadata": {},
   "outputs": [],
   "source": []
  },
  {
   "cell_type": "code",
   "execution_count": null,
   "metadata": {},
   "outputs": [],
   "source": []
  },
  {
   "cell_type": "code",
   "execution_count": null,
   "metadata": {},
   "outputs": [],
   "source": []
  },
  {
   "cell_type": "code",
   "execution_count": null,
   "metadata": {
    "scrolled": true
   },
   "outputs": [],
   "source": []
  }
 ],
 "metadata": {
  "kernelspec": {
   "display_name": "Python 3",
   "language": "python",
   "name": "python3"
  },
  "language_info": {
   "codemirror_mode": {
    "name": "ipython",
    "version": 3
   },
   "file_extension": ".py",
   "mimetype": "text/x-python",
   "name": "python",
   "nbconvert_exporter": "python",
   "pygments_lexer": "ipython3",
   "version": "3.7.3"
  }
 },
 "nbformat": 4,
 "nbformat_minor": 2
}
