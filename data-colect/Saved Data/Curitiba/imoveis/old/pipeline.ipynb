{
 "cells": [
  {
   "cell_type": "code",
   "execution_count": 1,
   "metadata": {},
   "outputs": [],
   "source": [
    "import pandas as pd\n",
    "\n",
    "pd.options.display.max_rows = None\n",
    "pd.options.display.max_columns = None\n",
    "import numpy as np"
   ]
  },
  {
   "cell_type": "code",
   "execution_count": 2,
   "metadata": {},
   "outputs": [],
   "source": [
    "data = pd.read_csv('imobiliarias_curitiba_full.csv')"
   ]
  },
  {
   "cell_type": "code",
   "execution_count": 3,
   "metadata": {},
   "outputs": [
    {
     "data": {
      "text/html": [
       "<div>\n",
       "<style scoped>\n",
       "    .dataframe tbody tr th:only-of-type {\n",
       "        vertical-align: middle;\n",
       "    }\n",
       "\n",
       "    .dataframe tbody tr th {\n",
       "        vertical-align: top;\n",
       "    }\n",
       "\n",
       "    .dataframe thead th {\n",
       "        text-align: right;\n",
       "    }\n",
       "</style>\n",
       "<table border=\"1\" class=\"dataframe\">\n",
       "  <thead>\n",
       "    <tr style=\"text-align: right;\">\n",
       "      <th></th>\n",
       "      <th>address</th>\n",
       "      <th>details</th>\n",
       "      <th>fone</th>\n",
       "      <th>link</th>\n",
       "      <th>name</th>\n",
       "      <th>has_instagram</th>\n",
       "      <th>has_facebook</th>\n",
       "      <th>facebook_link</th>\n",
       "      <th>instagram_link</th>\n",
       "      <th>link_problem</th>\n",
       "      <th>instagram_bio_text</th>\n",
       "      <th>instagram_bio_link</th>\n",
       "      <th>instagram_username</th>\n",
       "      <th>instagram_link_problem</th>\n",
       "      <th>about_content</th>\n",
       "      <th>facebook_page_user</th>\n",
       "      <th>facebook_link_problem</th>\n",
       "      <th>ads_page_problem</th>\n",
       "      <th>library_ads_url</th>\n",
       "      <th>active_ads</th>\n",
       "      <th>created_in</th>\n",
       "      <th>instagram_page_name</th>\n",
       "      <th>instagram_posts</th>\n",
       "      <th>instagram_followers</th>\n",
       "      <th>instagram_following</th>\n",
       "      <th>facebook_page_name</th>\n",
       "      <th>facebook_likes</th>\n",
       "      <th>facebook_followers</th>\n",
       "      <th>check-ins</th>\n",
       "    </tr>\n",
       "  </thead>\n",
       "  <tbody>\n",
       "    <tr>\n",
       "      <th>0</th>\n",
       "      <td>R. Expedicionário Adir Jorge, 153</td>\n",
       "      <td>Imobiliária</td>\n",
       "      <td>(41) 99963-5226</td>\n",
       "      <td>http://www.mscorretor.com.br/</td>\n",
       "      <td>MS Corretor de Imóveis</td>\n",
       "      <td>False</td>\n",
       "      <td>True</td>\n",
       "      <td>http://www.facebook.com/mscorretor</td>\n",
       "      <td>NaN</td>\n",
       "      <td>NaN</td>\n",
       "      <td>NaN</td>\n",
       "      <td>NaN</td>\n",
       "      <td>NaN</td>\n",
       "      <td>NaN</td>\n",
       "      <td>&lt;div class=\"_4-u2 _u9q _3xaf _4-u8\"&gt;&lt;div class...</td>\n",
       "      <td>@mscorretor</td>\n",
       "      <td>NaN</td>\n",
       "      <td>NaN</td>\n",
       "      <td>https://pt-br.facebook.com/ads/library/?active...</td>\n",
       "      <td>0.0</td>\n",
       "      <td>2012-12-04 00:00:00</td>\n",
       "      <td>NaN</td>\n",
       "      <td>NaN</td>\n",
       "      <td>NaN</td>\n",
       "      <td>NaN</td>\n",
       "      <td>MS Corretor</td>\n",
       "      <td>1452.0</td>\n",
       "      <td>1449.0</td>\n",
       "      <td>245.0</td>\n",
       "    </tr>\n",
       "    <tr>\n",
       "      <th>1</th>\n",
       "      <td>R. Cap. João Ribas de Oliveira, 483/1</td>\n",
       "      <td>Imobiliária</td>\n",
       "      <td>(41) 3151-2833</td>\n",
       "      <td>http://www.oliveiraefurquimimoveis.com.br/sobre</td>\n",
       "      <td>J.Furquim Imoveis</td>\n",
       "      <td>False</td>\n",
       "      <td>True</td>\n",
       "      <td>https://www.facebook.com/OliveiraFurquimImovei...</td>\n",
       "      <td>NaN</td>\n",
       "      <td>NaN</td>\n",
       "      <td>NaN</td>\n",
       "      <td>NaN</td>\n",
       "      <td>NaN</td>\n",
       "      <td>NaN</td>\n",
       "      <td>&lt;div class=\"_4-u2 _u9q _3xaf _4-u8\"&gt;&lt;div class...</td>\n",
       "      <td>@OliveiraFurquimImoveis</td>\n",
       "      <td>True</td>\n",
       "      <td>NaN</td>\n",
       "      <td>https://pt-br.facebook.com/ads/library/?active...</td>\n",
       "      <td>0.0</td>\n",
       "      <td>2019-02-26 00:00:00</td>\n",
       "      <td>NaN</td>\n",
       "      <td>NaN</td>\n",
       "      <td>NaN</td>\n",
       "      <td>NaN</td>\n",
       "      <td>Oliveira &amp; Furquim Imóveis</td>\n",
       "      <td>76.0</td>\n",
       "      <td>78.0</td>\n",
       "      <td>245.0</td>\n",
       "    </tr>\n",
       "    <tr>\n",
       "      <th>2</th>\n",
       "      <td>Tv. Ferreira do Amaral, 20 - Loja 06</td>\n",
       "      <td>Imobiliária</td>\n",
       "      <td>(41) 3342-1516</td>\n",
       "      <td>http://www.galoimoveis.com.br/</td>\n",
       "      <td>Galo Imobiliária</td>\n",
       "      <td>False</td>\n",
       "      <td>False</td>\n",
       "      <td>NaN</td>\n",
       "      <td>NaN</td>\n",
       "      <td>NaN</td>\n",
       "      <td>NaN</td>\n",
       "      <td>NaN</td>\n",
       "      <td>NaN</td>\n",
       "      <td>NaN</td>\n",
       "      <td>NaN</td>\n",
       "      <td>NaN</td>\n",
       "      <td>NaN</td>\n",
       "      <td>NaN</td>\n",
       "      <td>NaN</td>\n",
       "      <td>NaN</td>\n",
       "      <td>NaN</td>\n",
       "      <td>NaN</td>\n",
       "      <td>NaN</td>\n",
       "      <td>NaN</td>\n",
       "      <td>NaN</td>\n",
       "      <td>NaN</td>\n",
       "      <td>NaN</td>\n",
       "      <td>NaN</td>\n",
       "      <td>NaN</td>\n",
       "    </tr>\n",
       "    <tr>\n",
       "      <th>3</th>\n",
       "      <td>Av. Pres. Getúlio Vargas, 2932</td>\n",
       "      <td>Imobiliária</td>\n",
       "      <td>(41) 3022-6266</td>\n",
       "      <td>http://www.origemimoveis.com.br/</td>\n",
       "      <td>Origem Imóveis</td>\n",
       "      <td>False</td>\n",
       "      <td>False</td>\n",
       "      <td>NaN</td>\n",
       "      <td>NaN</td>\n",
       "      <td>NaN</td>\n",
       "      <td>NaN</td>\n",
       "      <td>NaN</td>\n",
       "      <td>NaN</td>\n",
       "      <td>NaN</td>\n",
       "      <td>NaN</td>\n",
       "      <td>NaN</td>\n",
       "      <td>NaN</td>\n",
       "      <td>NaN</td>\n",
       "      <td>NaN</td>\n",
       "      <td>NaN</td>\n",
       "      <td>NaN</td>\n",
       "      <td>NaN</td>\n",
       "      <td>NaN</td>\n",
       "      <td>NaN</td>\n",
       "      <td>NaN</td>\n",
       "      <td>NaN</td>\n",
       "      <td>NaN</td>\n",
       "      <td>NaN</td>\n",
       "      <td>NaN</td>\n",
       "    </tr>\n",
       "    <tr>\n",
       "      <th>4</th>\n",
       "      <td>R. Armando Sáles de Oliveira, 354</td>\n",
       "      <td>Imobiliária</td>\n",
       "      <td>(41) 3093-7888</td>\n",
       "      <td>https://www.onimaximoveis.com.br/contato.php</td>\n",
       "      <td>ONIMAX IMÓVEIS</td>\n",
       "      <td>False</td>\n",
       "      <td>True</td>\n",
       "      <td>NaN</td>\n",
       "      <td>NaN</td>\n",
       "      <td>NaN</td>\n",
       "      <td>NaN</td>\n",
       "      <td>NaN</td>\n",
       "      <td>NaN</td>\n",
       "      <td>NaN</td>\n",
       "      <td>NaN</td>\n",
       "      <td>NaN</td>\n",
       "      <td>NaN</td>\n",
       "      <td>NaN</td>\n",
       "      <td>NaN</td>\n",
       "      <td>NaN</td>\n",
       "      <td>NaN</td>\n",
       "      <td>NaN</td>\n",
       "      <td>NaN</td>\n",
       "      <td>NaN</td>\n",
       "      <td>NaN</td>\n",
       "      <td>NaN</td>\n",
       "      <td>NaN</td>\n",
       "      <td>NaN</td>\n",
       "      <td>NaN</td>\n",
       "    </tr>\n",
       "  </tbody>\n",
       "</table>\n",
       "</div>"
      ],
      "text/plain": [
       "                                 address      details             fone  \\\n",
       "0      R. Expedicionário Adir Jorge, 153  Imobiliária  (41) 99963-5226   \n",
       "1  R. Cap. João Ribas de Oliveira, 483/1  Imobiliária   (41) 3151-2833   \n",
       "2   Tv. Ferreira do Amaral, 20 - Loja 06  Imobiliária   (41) 3342-1516   \n",
       "3         Av. Pres. Getúlio Vargas, 2932  Imobiliária   (41) 3022-6266   \n",
       "4      R. Armando Sáles de Oliveira, 354  Imobiliária   (41) 3093-7888   \n",
       "\n",
       "                                              link                    name  \\\n",
       "0                    http://www.mscorretor.com.br/  MS Corretor de Imóveis   \n",
       "1  http://www.oliveiraefurquimimoveis.com.br/sobre       J.Furquim Imoveis   \n",
       "2                   http://www.galoimoveis.com.br/        Galo Imobiliária   \n",
       "3                 http://www.origemimoveis.com.br/          Origem Imóveis   \n",
       "4     https://www.onimaximoveis.com.br/contato.php          ONIMAX IMÓVEIS   \n",
       "\n",
       "  has_instagram has_facebook  \\\n",
       "0         False         True   \n",
       "1         False         True   \n",
       "2         False        False   \n",
       "3         False        False   \n",
       "4         False         True   \n",
       "\n",
       "                                       facebook_link instagram_link  \\\n",
       "0                 http://www.facebook.com/mscorretor            NaN   \n",
       "1  https://www.facebook.com/OliveiraFurquimImovei...            NaN   \n",
       "2                                                NaN            NaN   \n",
       "3                                                NaN            NaN   \n",
       "4                                                NaN            NaN   \n",
       "\n",
       "  link_problem instagram_bio_text instagram_bio_link instagram_username  \\\n",
       "0          NaN                NaN                NaN                NaN   \n",
       "1          NaN                NaN                NaN                NaN   \n",
       "2          NaN                NaN                NaN                NaN   \n",
       "3          NaN                NaN                NaN                NaN   \n",
       "4          NaN                NaN                NaN                NaN   \n",
       "\n",
       "  instagram_link_problem                                      about_content  \\\n",
       "0                    NaN  <div class=\"_4-u2 _u9q _3xaf _4-u8\"><div class...   \n",
       "1                    NaN  <div class=\"_4-u2 _u9q _3xaf _4-u8\"><div class...   \n",
       "2                    NaN                                                NaN   \n",
       "3                    NaN                                                NaN   \n",
       "4                    NaN                                                NaN   \n",
       "\n",
       "        facebook_page_user facebook_link_problem ads_page_problem  \\\n",
       "0              @mscorretor                   NaN              NaN   \n",
       "1  @OliveiraFurquimImoveis                  True              NaN   \n",
       "2                      NaN                   NaN              NaN   \n",
       "3                      NaN                   NaN              NaN   \n",
       "4                      NaN                   NaN              NaN   \n",
       "\n",
       "                                     library_ads_url  active_ads  \\\n",
       "0  https://pt-br.facebook.com/ads/library/?active...         0.0   \n",
       "1  https://pt-br.facebook.com/ads/library/?active...         0.0   \n",
       "2                                                NaN         NaN   \n",
       "3                                                NaN         NaN   \n",
       "4                                                NaN         NaN   \n",
       "\n",
       "            created_in instagram_page_name  instagram_posts  \\\n",
       "0  2012-12-04 00:00:00                 NaN              NaN   \n",
       "1  2019-02-26 00:00:00                 NaN              NaN   \n",
       "2                  NaN                 NaN              NaN   \n",
       "3                  NaN                 NaN              NaN   \n",
       "4                  NaN                 NaN              NaN   \n",
       "\n",
       "   instagram_followers  instagram_following          facebook_page_name  \\\n",
       "0                  NaN                  NaN                 MS Corretor   \n",
       "1                  NaN                  NaN  Oliveira & Furquim Imóveis   \n",
       "2                  NaN                  NaN                         NaN   \n",
       "3                  NaN                  NaN                         NaN   \n",
       "4                  NaN                  NaN                         NaN   \n",
       "\n",
       "   facebook_likes  facebook_followers  check-ins  \n",
       "0          1452.0              1449.0      245.0  \n",
       "1            76.0                78.0      245.0  \n",
       "2             NaN                 NaN        NaN  \n",
       "3             NaN                 NaN        NaN  \n",
       "4             NaN                 NaN        NaN  "
      ]
     },
     "execution_count": 3,
     "metadata": {},
     "output_type": "execute_result"
    }
   ],
   "source": [
    "data.head()"
   ]
  },
  {
   "cell_type": "markdown",
   "metadata": {},
   "source": [
    "# Processa os dados de anuncios"
   ]
  },
  {
   "cell_type": "code",
   "execution_count": 70,
   "metadata": {},
   "outputs": [],
   "source": [
    "ads_data = data[['active_ads','created_in']]"
   ]
  },
  {
   "cell_type": "markdown",
   "metadata": {},
   "source": [
    "### Convertendo em inteiros o total de anuncios ativos para cada pagina"
   ]
  },
  {
   "cell_type": "code",
   "execution_count": 71,
   "metadata": {
    "collapsed": true
   },
   "outputs": [
    {
     "name": "stderr",
     "output_type": "stream",
     "text": [
      "/usr/local/lib/python3.5/dist-packages/ipykernel_launcher.py:2: SettingWithCopyWarning: \n",
      "A value is trying to be set on a copy of a slice from a DataFrame\n",
      "\n",
      "See the caveats in the documentation: http://pandas.pydata.org/pandas-docs/stable/user_guide/indexing.html#returning-a-view-versus-a-copy\n",
      "  \n"
     ]
    }
   ],
   "source": [
    "for row, content in ads_data[ads_data.active_ads.isnull() == False]['active_ads'].T.iteritems():\n",
    "    ads_data.loc[row, 'active_ads'] = int(''.join(filter(str.isdigit, content)))"
   ]
  },
  {
   "cell_type": "markdown",
   "metadata": {},
   "source": [
    "### Convertendo em formato tratavel da data os dados de quando as paginas foram criadas"
   ]
  },
  {
   "cell_type": "code",
   "execution_count": 72,
   "metadata": {},
   "outputs": [],
   "source": [
    "months = {'Jan': '01', 'Fev': '02', 'Mar': '03', 'Abr': '04', 'Maio': '05', 'Jun': '06', \n",
    " 'Jul': '07', 'Ago': '08', 'Set': '09', 'Out': '10', 'Nov': '11', 'Dez': '12'}"
   ]
  },
  {
   "cell_type": "code",
   "execution_count": 73,
   "metadata": {},
   "outputs": [
    {
     "name": "stderr",
     "output_type": "stream",
     "text": [
      "/usr/local/lib/python3.5/dist-packages/ipykernel_launcher.py:4: SettingWithCopyWarning: \n",
      "A value is trying to be set on a copy of a slice from a DataFrame\n",
      "\n",
      "See the caveats in the documentation: http://pandas.pydata.org/pandas-docs/stable/user_guide/indexing.html#returning-a-view-versus-a-copy\n",
      "  after removing the cwd from sys.path.\n"
     ]
    }
   ],
   "source": [
    "for row, content in ads_data[ads_data.created_in.isnull() == False]['created_in'].T.iteritems():\n",
    "    data_ = content.replace(' de ', '/')\n",
    "    month_str = data_.split('/')[1]\n",
    "    ads_data.loc[row, 'created_in'] = pd.to_datetime(data_.replace(month_str, months[month_str]))"
   ]
  },
  {
   "cell_type": "code",
   "execution_count": 75,
   "metadata": {},
   "outputs": [],
   "source": [
    "data.drop(['active_ads','created_in'], axis=1, inplace=True)\n",
    "data = pd.concat([data, ads_data], axis=1)"
   ]
  },
  {
   "cell_type": "markdown",
   "metadata": {},
   "source": [
    "# Tratando dados coletados da pagina do facebook"
   ]
  },
  {
   "cell_type": "code",
   "execution_count": 152,
   "metadata": {},
   "outputs": [],
   "source": [
    "data_facacebook_page = data[['facebook_page_name','facebook_likes','facebook_followers','check-ins']]"
   ]
  },
  {
   "cell_type": "code",
   "execution_count": 153,
   "metadata": {
    "collapsed": true
   },
   "outputs": [
    {
     "name": "stderr",
     "output_type": "stream",
     "text": [
      "/usr/local/lib/python3.5/dist-packages/ipykernel_launcher.py:2: SettingWithCopyWarning: \n",
      "A value is trying to be set on a copy of a slice from a DataFrame\n",
      "\n",
      "See the caveats in the documentation: http://pandas.pydata.org/pandas-docs/stable/user_guide/indexing.html#returning-a-view-versus-a-copy\n",
      "  \n",
      "/usr/local/lib/python3.5/dist-packages/ipykernel_launcher.py:3: SettingWithCopyWarning: \n",
      "A value is trying to be set on a copy of a slice from a DataFrame\n",
      "\n",
      "See the caveats in the documentation: http://pandas.pydata.org/pandas-docs/stable/user_guide/indexing.html#returning-a-view-versus-a-copy\n",
      "  This is separate from the ipykernel package so we can avoid doing imports until\n",
      "/usr/local/lib/python3.5/dist-packages/ipykernel_launcher.py:4: SettingWithCopyWarning: \n",
      "A value is trying to be set on a copy of a slice from a DataFrame\n",
      "\n",
      "See the caveats in the documentation: http://pandas.pydata.org/pandas-docs/stable/user_guide/indexing.html#returning-a-view-versus-a-copy\n",
      "  after removing the cwd from sys.path.\n"
     ]
    }
   ],
   "source": [
    "for row, content in data_facacebook_page[data_facacebook_page.facebook_page_name.isnull() == False].T.iteritems():\n",
    "    if str(content['facebook_likes']) != 'nan': data_facacebook_page.loc[row, 'facebook_likes'] = int(content['facebook_likes'][:content['facebook_likes'].find(' ')].replace(',', ''))\n",
    "    if str(content['facebook_followers']) != 'nan': data_facacebook_page.loc[row, 'facebook_followers'] = int(content['facebook_followers'][:content['facebook_followers'].find(' ')].replace(',', ''))\n",
    "    if str(content['check-ins']) != 'nan': data_facacebook_page.loc[row, 'check-ins'] = int(content['check-ins'][:content['check-ins'].find(' ')].replace(',', ''))"
   ]
  },
  {
   "cell_type": "code",
   "execution_count": 414,
   "metadata": {},
   "outputs": [],
   "source": [
    "data.drop(['facebook_page_name','facebook_likes','facebook_followers','check-ins'], axis=1, inplace=True)\n",
    "data = pd.concat([data, data_facacebook_page], axis=1)"
   ]
  },
  {
   "cell_type": "markdown",
   "metadata": {},
   "source": [
    "# Tratando os dados do Instagram"
   ]
  },
  {
   "cell_type": "code",
   "execution_count": 403,
   "metadata": {},
   "outputs": [],
   "source": [
    "data_instagram_page = data[['instagram_page_name', 'instagram_posts','instagram_followers','instagram_following']]"
   ]
  },
  {
   "cell_type": "code",
   "execution_count": 404,
   "metadata": {},
   "outputs": [],
   "source": [
    "def processQntOnString(qnt_string):\n",
    "    '''\n",
    "        Nas quantidade podera contar 'k' ou 'm' para mil ou milhoes\n",
    "    '''\n",
    "    try:\n",
    "        key = ''.join(filter(str.isalpha, qnt_string))\n",
    "        total_chars = '0'*6 if key == 'm' else '0'*3 if key == 'k' else '0'*3 if key == 'mil' else '0'*6 if key == 'mi' else None  \n",
    "\n",
    "        if total_chars != None and key in qnt_string and '.' in qnt_string:\n",
    "            #verifica quantos numeros apos o ponto flutuante e retira essa quantidade de zeros\n",
    "            total_chars = total_chars[len(qnt_string[qnt_string.find('.')+1:qnt_string.find('m')]):]\n",
    "            qnt_string = qnt_string.replace(key, total_chars).replace('.','')\n",
    "            return int(qnt_string)\n",
    "        elif total_chars != None and key in qnt_string:\n",
    "            qnt_string = qnt_string.replace(key, total_chars)\n",
    "            return int(qnt_string)\n",
    "        else:\n",
    "            return int(qnt_string.replace('.', ''))\n",
    "    except:\n",
    "        return 'Error in value: {}'.format(qnt_string)"
   ]
  },
  {
   "cell_type": "code",
   "execution_count": 405,
   "metadata": {
    "collapsed": true
   },
   "outputs": [
    {
     "name": "stderr",
     "output_type": "stream",
     "text": [
      "/usr/local/lib/python3.5/dist-packages/ipykernel_launcher.py:2: SettingWithCopyWarning: \n",
      "A value is trying to be set on a copy of a slice from a DataFrame\n",
      "\n",
      "See the caveats in the documentation: http://pandas.pydata.org/pandas-docs/stable/user_guide/indexing.html#returning-a-view-versus-a-copy\n",
      "  \n",
      "/usr/local/lib/python3.5/dist-packages/ipykernel_launcher.py:3: SettingWithCopyWarning: \n",
      "A value is trying to be set on a copy of a slice from a DataFrame\n",
      "\n",
      "See the caveats in the documentation: http://pandas.pydata.org/pandas-docs/stable/user_guide/indexing.html#returning-a-view-versus-a-copy\n",
      "  This is separate from the ipykernel package so we can avoid doing imports until\n",
      "/usr/local/lib/python3.5/dist-packages/ipykernel_launcher.py:4: SettingWithCopyWarning: \n",
      "A value is trying to be set on a copy of a slice from a DataFrame\n",
      "\n",
      "See the caveats in the documentation: http://pandas.pydata.org/pandas-docs/stable/user_guide/indexing.html#returning-a-view-versus-a-copy\n",
      "  after removing the cwd from sys.path.\n"
     ]
    }
   ],
   "source": [
    "for row, content in data_instagram_page[data_instagram_page.instagram_followers.isnull() == False].T.iteritems():\n",
    "    data_instagram_page.loc[row, 'instagram_posts'] = processQntOnString(content['instagram_posts'][:content['instagram_posts'].find(' ')].replace(',', ''))\n",
    "    data_instagram_page.loc[row, 'instagram_followers'] = processQntOnString(content['instagram_followers'][:content['instagram_followers'].find(' ')].replace(',', '.'))\n",
    "    data_instagram_page.loc[row, 'instagram_following'] = processQntOnString(content['instagram_following'][:content['instagram_following'].find(' ')].replace(',', '.'))"
   ]
  },
  {
   "cell_type": "code",
   "execution_count": 408,
   "metadata": {},
   "outputs": [],
   "source": [
    "data.drop(['instagram_page_name', 'instagram_posts','instagram_followers','instagram_following'], axis=1, inplace=True)\n",
    "data = pd.concat([data, data_instagram_page], axis=1)"
   ]
  },
  {
   "cell_type": "code",
   "execution_count": 409,
   "metadata": {},
   "outputs": [],
   "source": []
  },
  {
   "cell_type": "code",
   "execution_count": null,
   "metadata": {},
   "outputs": [],
   "source": []
  },
  {
   "cell_type": "code",
   "execution_count": null,
   "metadata": {},
   "outputs": [],
   "source": []
  },
  {
   "cell_type": "code",
   "execution_count": 421,
   "metadata": {},
   "outputs": [],
   "source": [
    "data.drop_duplicates(['address'], inplace=True)"
   ]
  },
  {
   "cell_type": "code",
   "execution_count": 423,
   "metadata": {},
   "outputs": [],
   "source": [
    "data.to_csv('imobiliarias_curitiba_full.csv', index=None)"
   ]
  }
 ],
 "metadata": {
  "kernelspec": {
   "display_name": "Python 3",
   "language": "python",
   "name": "python3"
  },
  "language_info": {
   "codemirror_mode": {
    "name": "ipython",
    "version": 3
   },
   "file_extension": ".py",
   "mimetype": "text/x-python",
   "name": "python",
   "nbconvert_exporter": "python",
   "pygments_lexer": "ipython3",
   "version": "3.5.3"
  }
 },
 "nbformat": 4,
 "nbformat_minor": 2
}
