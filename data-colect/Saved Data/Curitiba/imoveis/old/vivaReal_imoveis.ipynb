{
 "cells": [
  {
   "cell_type": "code",
   "execution_count": null,
   "metadata": {},
   "outputs": [],
   "source": [
    "import bs4\n",
    "import requests\n",
    "import pprint\n",
    "import pymysql, warnings\n",
    "import time"
   ]
  },
  {
   "cell_type": "code",
   "execution_count": null,
   "metadata": {},
   "outputs": [],
   "source": [
    "from selenium import webdriver\n",
    "from selenium.webdriver.chrome.options import Options\n",
    "from selenium.webdriver.common.keys import Keys"
   ]
  },
  {
   "cell_type": "code",
   "execution_count": null,
   "metadata": {},
   "outputs": [],
   "source": [
    "driver = webdriver.Chrome(executable_path='./webdriver/chromedriver')\n",
    "driver.get('https://www.vivareal.com.br/venda/santa-catarina/itapema/')\n",
    "htmlPage = bs4.BeautifulSoup(driver.page_source,'html.parser')\n",
    "htmlElem = driver.find_element_by_tag_name('html')"
   ]
  },
  {
   "cell_type": "code",
   "execution_count": null,
   "metadata": {},
   "outputs": [],
   "source": [
    "content = htmlPage.find_all('div',{'class':'js-card-selector'})\n",
    "price = content[0].find('div',{'class':'property-card__price js-property-card-prices js-property-card__price-small'}).text"
   ]
  },
  {
   "cell_type": "code",
   "execution_count": null,
   "metadata": {},
   "outputs": [],
   "source": [
    "def scroll():\n",
    "    htmlElem.send_keys(Keys.HOME)\n",
    "    tente = True\n",
    "    count = 0\n",
    "    while tente:\n",
    "        try:\n",
    "            htmlElem.send_keys(Keys.END)\n",
    "            time.sleep(3)\n",
    "            htmlElem.send_keys(Keys.PAGE_UP)\n",
    "            time.sleep(3)\n",
    "            htmlElem.send_keys(Keys.PAGE_UP)\n",
    "            count +=1\n",
    "            time.sleep(1)\n",
    "            driver.find_elements_by_xpath('//a[@title=\"Próxima página\"]')[0].click()\n",
    "            time.sleep(3)\n",
    "            htmlPage = bs4.BeautifulSoup(driver.page_source,'html.parser')\n",
    "            content = htmlPage.find_all('div',{'class':'js-card-selector'})\n",
    "            new_price = content[0].find('div',{'class':'property-card__price js-property-card-prices js-property-card__price-small'}).text\n",
    "            \n",
    "            if new_price == price:\n",
    "                tente = True\n",
    "            else:\n",
    "                return True\n",
    "            \n",
    "        except BaseException as error:\n",
    "            global e\n",
    "            e = error\n",
    "            pass"
   ]
  },
  {
   "cell_type": "code",
   "execution_count": null,
   "metadata": {},
   "outputs": [],
   "source": [
    "def getImoveisInfo():\n",
    "    content = htmlPage.find_all('div',{'class':'js-card-selector'})\n",
    "    global imoveis\n",
    "    imoveis = []\n",
    "    for imovel in content:\n",
    "        #dicionario que ira receber todas as informacoes\n",
    "        imoveis_info = {'preco':'', 'endereco':'','tamanho':'','quartos':'','banheiros':'','descricao':'','imagem':'','name':'','url':'', 'vagas_garagem':''}\n",
    "\n",
    "        imoveis_info['preco'] = imovel.find('div',{'class':'property-card__price js-property-card-prices js-property-card__price-small'}).text\n",
    "        imoveis_info['endereco'] = imovel.find('span',{'class':'property-card__address js-property-card-address js-see-on-map'}).text\n",
    "        imoveis_info['tamanho'] = imovel.find('li',{'class':'property-card__detail-item property-card__detail-area'}).find('span').text\n",
    "        imoveis_info['quartos'] = imovel.find('li',{'class':'property-card__detail-item property-card__detail-room js-property-detail-rooms'}).find('span').text\n",
    "        imoveis_info['banheiros'] = imovel.find('li',{'class':'property-card__detail-item property-card__detail-bathroom js-property-detail-bathroom'}).find('span').text\n",
    "        imoveis_info['descricao'] = imovel.find('div',{'class':'property-card__description js-property-description'}).text\n",
    "        imoveis_info['imagem'] = imovel.find('img',{'class':'carousel__image js-carousel-image'}).get('src')\n",
    "        imoveis_info['name'] = imovel.find('a',{'class':'property-card__title js-cardLink js-card-title'}).text\n",
    "        imoveis_info['url'] = imovel.find('a',{'class':'property-card__title js-cardLink js-card-title'}).get('href')\n",
    "        imoveis_info['vagas_garagem'] = imovel.find('li',{'class':'property-card__detail-item property-card__detail-garage js-property-detail-garages'}).find('span').text\n",
    "\n",
    "        #cria-se uma lista de dicionarios para todas as informacoes sobre todos os imoveis\n",
    "        imoveis.append(imoveis_info)\n",
    "    return imoveis"
   ]
  },
  {
   "cell_type": "code",
   "execution_count": null,
   "metadata": {},
   "outputs": [],
   "source": [
    "def saveImoveisInfo(imoveis_list_info):\n",
    "    db = pymysql.connect(host='br938.hostgator.com.br', user='blockch1', passwd='ulh46hBT28', db='blockch1_scrappingData')\n",
    "    for imovel in imoveis_list_info:   \n",
    "        cursor = db.cursor()\n",
    "        warnings.simplefilter(\"ignore\")\n",
    "        query = 'insert into imoveis_itapema(preco, endereco, tamanho, quartos, banheiros, descricao, imagem, name, url, vagas_garagem) values(%s,%s,%s,%s,%s,%s,%s,%s,%s,%s)'\n",
    "        cursor.execute(query, (imovel['preco'],imovel['endereco'],imovel['tamanho'],imovel['quartos'],imovel['banheiros'],imovel['descricao'], imovel['imagem'], imovel['name'], imovel['url'], imovel['vagas_garagem']))\n",
    "        db.commit()\n",
    "    cursor.close()"
   ]
  },
  {
   "cell_type": "code",
   "execution_count": null,
   "metadata": {},
   "outputs": [],
   "source": [
    "saveImoveisInfo(getImoveisInfo())"
   ]
  },
  {
   "cell_type": "code",
   "execution_count": null,
   "metadata": {
    "scrolled": true
   },
   "outputs": [],
   "source": [
    "contador = 0\n",
    "while scroll():\n",
    "    contador +=1\n",
    "    saveImoveisInfo(getImoveisInfo())\n",
    "    print('{} - informacoes salvas'.format(contador))\n",
    "    time.sleep(1)"
   ]
  },
  {
   "cell_type": "markdown",
   "metadata": {},
   "source": [
    "necessario rodar somente a funcao que salva os dados para a primeira pagina entao clicar no segundo link, o resto faz sozinho"
   ]
  },
  {
   "cell_type": "code",
   "execution_count": null,
   "metadata": {},
   "outputs": [],
   "source": []
  }
 ],
 "metadata": {
  "kernelspec": {
   "display_name": "Python 3",
   "language": "python",
   "name": "python3"
  },
  "language_info": {
   "codemirror_mode": {
    "name": "ipython",
    "version": 3
   },
   "file_extension": ".py",
   "mimetype": "text/x-python",
   "name": "python",
   "nbconvert_exporter": "python",
   "pygments_lexer": "ipython3",
   "version": "3.5.3"
  }
 },
 "nbformat": 4,
 "nbformat_minor": 2
}
